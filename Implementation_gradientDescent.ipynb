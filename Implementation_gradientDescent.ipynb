{
  "nbformat": 4,
  "nbformat_minor": 0,
  "metadata": {
    "colab": {
      "name": "Implementation_gradientDescent.ipynb",
      "provenance": [],
      "collapsed_sections": [],
      "authorship_tag": "ABX9TyMOSutT66l+e1ePKJ1dY9N0",
      "include_colab_link": true
    },
    "kernelspec": {
      "name": "python3",
      "display_name": "Python 3"
    },
    "language_info": {
      "name": "python"
    }
  },
  "cells": [
    {
      "cell_type": "markdown",
      "metadata": {
        "id": "view-in-github",
        "colab_type": "text"
      },
      "source": [
        "<a href=\"https://colab.research.google.com/github/sharvariK-11/ML-algorithm/blob/main/Implementation_gradientDescent.ipynb\" target=\"_parent\"><img src=\"https://colab.research.google.com/assets/colab-badge.svg\" alt=\"Open In Colab\"/></a>"
      ]
    },
    {
      "cell_type": "code",
      "metadata": {
        "colab": {
          "base_uri": "https://localhost:8080/"
        },
        "id": "eiyb-vHKUOJN",
        "outputId": "9142187d-b0ce-477b-fe3c-54ce3e98e75d"
      },
      "source": [
        "x=([1,2,3])\n",
        "m=2\n",
        "for i in range(3):\n",
        "  x1= m*x\n",
        "  m=m-1\n",
        "  print(sum(x+x1))"
      ],
      "execution_count": null,
      "outputs": [
        {
          "output_type": "stream",
          "text": [
            "18\n",
            "12\n",
            "6\n"
          ],
          "name": "stdout"
        }
      ]
    },
    {
      "cell_type": "markdown",
      "metadata": {
        "id": "fEP0SIwhWHem"
      },
      "source": [
        "\n",
        "this is python when i say iterations basically roop is running that many times.\n",
        "x1=m*x will give value of sum of m*(1+2+3)\n",
        "then m=1\n",
        "prints \n",
        "and runs for m=1\n",
        "so on\n"
      ]
    },
    {
      "cell_type": "code",
      "metadata": {
        "colab": {
          "base_uri": "https://localhost:8080/"
        },
        "id": "VhsAk7WKNATi",
        "outputId": "826a788b-afa8-4326-8147-f8d3aebd9115"
      },
      "source": [
        "import numpy as np\n",
        "\n",
        "def gradient_descent(x,y):\n",
        "  m_curr=b_curr=0\n",
        "  n=len(x)\n",
        "  iterations=3\n",
        "  learning_rate=0.0001\n",
        "\n",
        "  for i in range(iterations):\n",
        "    y_predicted= m_curr*x+b_curr\n",
        "    cost=(1/n)*sum([v**2 for v in (y-y_predicted)])\n",
        "    md=-(2/n)*sum(x*(y-y_predicted))\n",
        "    bd=-(2/n)*sum(y-y_predicted)\n",
        "  \n",
        "    m_curr=m_curr- learning_rate*md\n",
        "    b_curr=b_curr - learning_rate*bd\n",
        "    print('m {},b {},cost {},iteration {}'.format(m_curr,b_curr,cost,i))\n",
        "\n",
        "x=np.array([1,2,3,4,5])\n",
        "y=np.array([5,7,9,11,13])\n",
        "gradient_descent(x,y)"
      ],
      "execution_count": null,
      "outputs": [
        {
          "output_type": "stream",
          "text": [
            "m 0.006200000000000001,b 0.0018000000000000002,cost 89.0,iteration 0\n",
            "m 0.012385280000000002,b 0.00359592,cost 88.58369304,iteration 1\n",
            "m 0.018555874832000004,b 0.005387769648,cost 88.16935357626447,iteration 2\n"
          ],
          "name": "stdout"
        }
      ]
    }
  ]
}