{
  "nbformat": 4,
  "nbformat_minor": 0,
  "metadata": {
    "colab": {
      "name": "Naive_Bayes_ Implementation.ipynb",
      "provenance": [],
      "authorship_tag": "ABX9TyOAz7autFMoirb/f8lBTMP5",
      "include_colab_link": true
    },
    "kernelspec": {
      "name": "python3",
      "display_name": "Python 3"
    },
    "language_info": {
      "name": "python"
    }
  },
  "cells": [
    {
      "cell_type": "markdown",
      "metadata": {
        "id": "view-in-github",
        "colab_type": "text"
      },
      "source": [
        "<a href=\"https://colab.research.google.com/github/sharvariK-11/ML-algorithm/blob/main/Naive_Bayes__Implementation.ipynb\" target=\"_parent\"><img src=\"https://colab.research.google.com/assets/colab-badge.svg\" alt=\"Open In Colab\"/></a>"
      ]
    },
    {
      "cell_type": "code",
      "metadata": {
        "id": "k3nQQnWuhMCM",
        "colab": {
          "base_uri": "https://localhost:8080/"
        },
        "outputId": "6fd7c153-7371-4e1c-85c0-fceb16469a31"
      },
      "source": [
        "from sklearn.datasets import load_iris\n",
        "iris=load_iris()\n",
        "X=iris.data\n",
        "Y=iris.target\n",
        "\n",
        "from sklearn.model_selection import train_test_split\n",
        "X_train,X_test,Y_train,Y_test= train_test_split(X,Y,test_size=0.2,random_state=1)\n",
        "\n",
        "from sklearn.naive_bayes import GaussianNB\n",
        "data= GaussianNB()\n",
        "data.fit(X_train,Y_train)\n",
        "y_predicted= data.predict(X_test)\n",
        "\n",
        "from sklearn import metrics\n",
        "print(\"Gaussian Naive Bayes model accuracy(in %):\", metrics.accuracy_score(Y_test, y_predicted)*100)"
      ],
      "execution_count": 11,
      "outputs": [
        {
          "output_type": "stream",
          "text": [
            "Gaussian Naive Bayes model accuracy(in %): 96.66666666666667\n"
          ],
          "name": "stdout"
        }
      ]
    }
  ]
}